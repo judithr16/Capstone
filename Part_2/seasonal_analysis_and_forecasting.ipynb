{
 "cells": [
  {
   "attachments": {},
   "cell_type": "markdown",
   "metadata": {},
   "source": [
    "# Seasonal analysis and forecasting\n"
   ]
  },
  {
   "cell_type": "code",
   "execution_count": 1,
   "metadata": {},
   "outputs": [],
   "source": [
    "import formulas\n",
    "from formulas import f_seasonal_decomp_sku\n",
    "from formulas import f_seasonal_decomp_product\n",
    "from formulas import f_forecast_product\n",
    "\n",
    "#from formulas import sku_dict\n",
    "#sku_dict"
   ]
  },
  {
   "attachments": {},
   "cell_type": "markdown",
   "metadata": {},
   "source": [
    "## Analysis"
   ]
  },
  {
   "attachments": {},
   "cell_type": "markdown",
   "metadata": {},
   "source": [
    "### by SKU"
   ]
  },
  {
   "cell_type": "code",
   "execution_count": null,
   "metadata": {},
   "outputs": [],
   "source": [
    "# input sku from sku_dict\n",
    "# input either monthly or weekly as the frequency\n",
    "# input plotting type: seasonal, trend, residual. Else: all\n",
    "\n",
    "sku =  '_' # SKU from dict\n",
    "frequency = '_' # monthly/weekly\n",
    "plot = '_' # seasonal/trend/residual/all\n",
    "\n",
    "f_seasonal_decomp_sku(sku, frequency, plot)"
   ]
  },
  {
   "attachments": {},
   "cell_type": "markdown",
   "metadata": {},
   "source": [
    "### by product"
   ]
  },
  {
   "cell_type": "code",
   "execution_count": null,
   "metadata": {},
   "outputs": [],
   "source": [
    "# input product name from sku_dict\n",
    "# input either monthly or weekly as the frequency\n",
    "# input plotting type: seasonal, trend, residual. Else: all\n",
    "\n",
    "product_name =  '_' # name \n",
    "frequency = '_' # monthly/weekly\n",
    "plot = '_' # seasonal/trend/residual/all\n",
    "\n",
    "f_seasonal_decomp_product(product_name, frequency, plot)"
   ]
  },
  {
   "attachments": {},
   "cell_type": "markdown",
   "metadata": {},
   "source": [
    "# Forecast"
   ]
  },
  {
   "cell_type": "code",
   "execution_count": null,
   "metadata": {},
   "outputs": [],
   "source": [
    "# input product name from sku_dict\n",
    "# if no seasonality is found: forecast shows trend only\n",
    "\n",
    "product_name = '_' # name\n",
    "\n",
    "f_forecast_product(product_name)"
   ]
  }
 ],
 "metadata": {
  "kernelspec": {
   "display_name": "nf_capstone",
   "language": "python",
   "name": "python3"
  },
  "language_info": {
   "codemirror_mode": {
    "name": "ipython",
    "version": 3
   },
   "file_extension": ".py",
   "mimetype": "text/x-python",
   "name": "python",
   "nbconvert_exporter": "python",
   "pygments_lexer": "ipython3",
   "version": "3.9.16 (main, Jan 11 2023, 10:02:19) \n[Clang 14.0.6 ]"
  },
  "orig_nbformat": 4,
  "vscode": {
   "interpreter": {
    "hash": "30c1c983384c86c42f4ffa6e7cdbea1625ef880af395af286d28fa48fa215e82"
   }
  }
 },
 "nbformat": 4,
 "nbformat_minor": 2
}
